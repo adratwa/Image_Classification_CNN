{
 "cells": [
  {
   "cell_type": "markdown",
   "metadata": {
    "id": "3DR-eO17geWu"
   },
   "source": [
    "# Convolutional Neural Network"
   ]
  },
  {
   "cell_type": "markdown",
   "metadata": {
    "id": "EMefrVPCg-60"
   },
   "source": [
    "### Importing the libraries"
   ]
  },
  {
   "cell_type": "code",
   "execution_count": 32,
   "metadata": {
    "executionInfo": {
     "elapsed": 7,
     "status": "ok",
     "timestamp": 1681202896746,
     "user": {
      "displayName": "Agata Dratwa",
      "userId": "03893912138779131643"
     },
     "user_tz": -120
    },
    "id": "UWf0kqwtXMAo"
   },
   "outputs": [],
   "source": [
    "import tensorflow as tf\n",
    "from keras.preprocessing.image import ImageDataGenerator"
   ]
  },
  {
   "cell_type": "code",
   "execution_count": 2,
   "metadata": {
    "colab": {
     "base_uri": "https://localhost:8080/",
     "height": 34
    },
    "executionInfo": {
     "elapsed": 6,
     "status": "ok",
     "timestamp": 1681202929551,
     "user": {
      "displayName": "Agata Dratwa",
      "userId": "03893912138779131643"
     },
     "user_tz": -120
    },
    "id": "sR7abvILgFVL",
    "outputId": "09db4cba-ed3b-4214-e124-e0c41087b346"
   },
   "outputs": [
    {
     "data": {
      "text/plain": [
       "'2.12.0'"
      ]
     },
     "execution_count": 2,
     "metadata": {},
     "output_type": "execute_result"
    }
   ],
   "source": [
    "tf.__version__"
   ]
  },
  {
   "cell_type": "markdown",
   "metadata": {
    "id": "oxQxCBWyoGPE"
   },
   "source": [
    "## Part 1 - Data Preprocessing"
   ]
  },
  {
   "cell_type": "markdown",
   "metadata": {
    "id": "MvE-heJNo3GG"
   },
   "source": [
    "### Preprocessing the Training set"
   ]
  },
  {
   "cell_type": "code",
   "execution_count": 16,
   "metadata": {
    "id": "znqLrDfJgUNJ"
   },
   "outputs": [
    {
     "name": "stdout",
     "output_type": "stream",
     "text": [
      "Found 8000 images belonging to 2 classes.\n"
     ]
    }
   ],
   "source": [
    "# we want to avoid overfitting so we do transformation\n",
    "# feature scaling is crucial for neural networks\n",
    "# instant of the class\n",
    "train_datagen = ImageDataGenerator(\n",
    "        rescale=1./255,\n",
    "        shear_range=0.2,\n",
    "        zoom_range=0.2,\n",
    "        horizontal_flip=True)\n",
    "\n",
    "training_set = train_datagen.flow_from_directory(\n",
    "        'dataset/training_set',\n",
    "        target_size=(64, 64), #  a tuple specifying the height and width to which all images will be resized.\n",
    "        batch_size=32, # how many images we want to have in batcj\n",
    "        class_mode='binary')"
   ]
  },
  {
   "cell_type": "markdown",
   "metadata": {
    "id": "mrCMmGw9pHys"
   },
   "source": [
    "### Preprocessing the Test set"
   ]
  },
  {
   "cell_type": "code",
   "execution_count": 17,
   "metadata": {
    "id": "8Oz8ng82mXED"
   },
   "outputs": [
    {
     "name": "stdout",
     "output_type": "stream",
     "text": [
      "Found 2000 images belonging to 2 classes.\n"
     ]
    }
   ],
   "source": [
    "test_datagen = ImageDataGenerator(rescale=1./255)\n",
    "\n",
    "test_set = test_datagen.flow_from_directory(\n",
    "        'dataset/test_set',\n",
    "        target_size=(64, 64),\n",
    "        batch_size=32,\n",
    "        class_mode='binary')"
   ]
  },
  {
   "cell_type": "markdown",
   "metadata": {
    "id": "af8O4l90gk7B"
   },
   "source": [
    "## Part 2 - Building the CNN"
   ]
  },
  {
   "cell_type": "markdown",
   "metadata": {
    "id": "ces1gXY2lmoX"
   },
   "source": [
    "### Initialising the CNN"
   ]
  },
  {
   "cell_type": "code",
   "execution_count": 18,
   "metadata": {
    "id": "o7z0580InGqa"
   },
   "outputs": [],
   "source": [
    "cnn = tf.keras.models.Sequential()"
   ]
  },
  {
   "cell_type": "markdown",
   "metadata": {
    "id": "u5YJj_XMl5LF"
   },
   "source": [
    "### Step 1 - Convolution"
   ]
  },
  {
   "cell_type": "code",
   "execution_count": 19,
   "metadata": {
    "id": "epGmcvIVnVje"
   },
   "outputs": [],
   "source": [
    "# input shape is 64, 64, 3 bc images are colorful\n",
    "cnn.add(tf.keras.layers.Conv2D(filters=32, kernel_size=3, activation='relu', input_shape=(64,64,3))) # kernel size is size of the feature map"
   ]
  },
  {
   "cell_type": "markdown",
   "metadata": {
    "id": "tf87FpvxmNOJ"
   },
   "source": [
    "### Step 2 - Pooling"
   ]
  },
  {
   "cell_type": "code",
   "execution_count": 20,
   "metadata": {
    "id": "wbHasKXHr2-w"
   },
   "outputs": [],
   "source": [
    "cnn.add(tf.keras.layers.MaxPool2D(pool_size=2, strides=2))"
   ]
  },
  {
   "cell_type": "markdown",
   "metadata": {
    "id": "xaTOgD8rm4mU"
   },
   "source": [
    "### Adding a second convolutional layer"
   ]
  },
  {
   "cell_type": "code",
   "execution_count": 21,
   "metadata": {
    "id": "IFGJ-QNkskaZ"
   },
   "outputs": [],
   "source": [
    "cnn.add(tf.keras.layers.Conv2D(filters=32, kernel_size=3, activation='relu'))\n",
    "cnn.add(tf.keras.layers.MaxPool2D(pool_size=2, strides=2))"
   ]
  },
  {
   "cell_type": "markdown",
   "metadata": {
    "id": "tmiEuvTunKfk"
   },
   "source": [
    "### Step 3 - Flattening"
   ]
  },
  {
   "cell_type": "code",
   "execution_count": 22,
   "metadata": {
    "colab": {
     "base_uri": "https://localhost:8080/",
     "height": 158
    },
    "executionInfo": {
     "elapsed": 361,
     "status": "error",
     "timestamp": 1681206288560,
     "user": {
      "displayName": "Agata Dratwa",
      "userId": "03893912138779131643"
     },
     "user_tz": -120
    },
    "id": "kpaz7adbswgf",
    "outputId": "c534c741-f770-40ca-87b2-72349ca07c60"
   },
   "outputs": [],
   "source": [
    "cnn.add(tf.keras.layers.Flatten())"
   ]
  },
  {
   "cell_type": "markdown",
   "metadata": {
    "id": "dAoSECOm203v"
   },
   "source": [
    "### Step 4 - Full Connection"
   ]
  },
  {
   "cell_type": "code",
   "execution_count": 23,
   "metadata": {
    "id": "Aj3QF2nUtDBt"
   },
   "outputs": [],
   "source": [
    "cnn.add(tf.keras.layers.Dense(units=128, activation='relu'))"
   ]
  },
  {
   "cell_type": "markdown",
   "metadata": {
    "id": "yTldFvbX28Na"
   },
   "source": [
    "### Step 5 - Output Layer"
   ]
  },
  {
   "cell_type": "code",
   "execution_count": 24,
   "metadata": {
    "id": "o5U8MTUHtjRU"
   },
   "outputs": [],
   "source": [
    "cnn.add(tf.keras.layers.Dense(units=1, activation='sigmoid')) # we do binary classfication so sigmoid is better"
   ]
  },
  {
   "cell_type": "markdown",
   "metadata": {
    "id": "D6XkI90snSDl"
   },
   "source": [
    "## Part 3 - Training the CNN"
   ]
  },
  {
   "cell_type": "markdown",
   "metadata": {
    "id": "vfrFQACEnc6i"
   },
   "source": [
    "### Compiling the CNN"
   ]
  },
  {
   "cell_type": "code",
   "execution_count": 25,
   "metadata": {
    "id": "nMYHApgzuICl"
   },
   "outputs": [],
   "source": [
    "cnn.compile(optimizer = 'adam', loss = 'binary_crossentropy', metrics = ['accuracy'])"
   ]
  },
  {
   "cell_type": "markdown",
   "metadata": {
    "id": "ehS-v3MIpX2h"
   },
   "source": [
    "### Training the CNN on the Training set and evaluating it on the Test set"
   ]
  },
  {
   "cell_type": "code",
   "execution_count": 26,
   "metadata": {
    "id": "CVtic2MTuhXo"
   },
   "outputs": [
    {
     "name": "stdout",
     "output_type": "stream",
     "text": [
      "Epoch 1/25\n"
     ]
    },
    {
     "name": "stderr",
     "output_type": "stream",
     "text": [
      "2023-04-30 21:53:31.293601: W tensorflow/tsl/platform/profile_utils/cpu_utils.cc:128] Failed to get CPU frequency: 0 Hz\n"
     ]
    },
    {
     "name": "stdout",
     "output_type": "stream",
     "text": [
      "250/250 [==============================] - 19s 69ms/step - loss: 0.6635 - accuracy: 0.5840 - val_loss: 0.6155 - val_accuracy: 0.6880\n",
      "Epoch 2/25\n",
      "250/250 [==============================] - 16s 66ms/step - loss: 0.6009 - accuracy: 0.6777 - val_loss: 0.5745 - val_accuracy: 0.7005\n",
      "Epoch 3/25\n",
      "250/250 [==============================] - 16s 66ms/step - loss: 0.5579 - accuracy: 0.7141 - val_loss: 0.5318 - val_accuracy: 0.7340\n",
      "Epoch 4/25\n",
      "250/250 [==============================] - 16s 65ms/step - loss: 0.5378 - accuracy: 0.7278 - val_loss: 0.5119 - val_accuracy: 0.7495\n",
      "Epoch 5/25\n",
      "250/250 [==============================] - 16s 65ms/step - loss: 0.5120 - accuracy: 0.7442 - val_loss: 0.5246 - val_accuracy: 0.7425\n",
      "Epoch 6/25\n",
      "250/250 [==============================] - 16s 66ms/step - loss: 0.4955 - accuracy: 0.7611 - val_loss: 0.5505 - val_accuracy: 0.7325\n",
      "Epoch 7/25\n",
      "250/250 [==============================] - 16s 65ms/step - loss: 0.4816 - accuracy: 0.7663 - val_loss: 0.5182 - val_accuracy: 0.7555\n",
      "Epoch 8/25\n",
      "250/250 [==============================] - 16s 66ms/step - loss: 0.4644 - accuracy: 0.7778 - val_loss: 0.5157 - val_accuracy: 0.7450\n",
      "Epoch 9/25\n",
      "250/250 [==============================] - 16s 65ms/step - loss: 0.4547 - accuracy: 0.7846 - val_loss: 0.5021 - val_accuracy: 0.7620\n",
      "Epoch 10/25\n",
      "250/250 [==============================] - 16s 66ms/step - loss: 0.4288 - accuracy: 0.8031 - val_loss: 0.4784 - val_accuracy: 0.7855\n",
      "Epoch 11/25\n",
      "250/250 [==============================] - 16s 65ms/step - loss: 0.4152 - accuracy: 0.8079 - val_loss: 0.4902 - val_accuracy: 0.7880\n",
      "Epoch 12/25\n",
      "250/250 [==============================] - 16s 65ms/step - loss: 0.3967 - accuracy: 0.8165 - val_loss: 0.4850 - val_accuracy: 0.7785\n",
      "Epoch 13/25\n",
      "250/250 [==============================] - 16s 65ms/step - loss: 0.3828 - accuracy: 0.8240 - val_loss: 0.4914 - val_accuracy: 0.7880\n",
      "Epoch 14/25\n",
      "250/250 [==============================] - 16s 65ms/step - loss: 0.3771 - accuracy: 0.8296 - val_loss: 0.4558 - val_accuracy: 0.8025\n",
      "Epoch 15/25\n",
      "250/250 [==============================] - 17s 66ms/step - loss: 0.3575 - accuracy: 0.8404 - val_loss: 0.4652 - val_accuracy: 0.8020\n",
      "Epoch 16/25\n",
      "250/250 [==============================] - 16s 66ms/step - loss: 0.3404 - accuracy: 0.8478 - val_loss: 0.5180 - val_accuracy: 0.7790\n",
      "Epoch 17/25\n",
      "250/250 [==============================] - 17s 67ms/step - loss: 0.3316 - accuracy: 0.8536 - val_loss: 0.5005 - val_accuracy: 0.7920\n",
      "Epoch 18/25\n",
      "250/250 [==============================] - 17s 66ms/step - loss: 0.3207 - accuracy: 0.8597 - val_loss: 0.4715 - val_accuracy: 0.8060\n",
      "Epoch 19/25\n",
      "250/250 [==============================] - 16s 65ms/step - loss: 0.3157 - accuracy: 0.8644 - val_loss: 0.4647 - val_accuracy: 0.8045\n",
      "Epoch 20/25\n",
      "250/250 [==============================] - 16s 65ms/step - loss: 0.2903 - accuracy: 0.8770 - val_loss: 0.5009 - val_accuracy: 0.7895\n",
      "Epoch 21/25\n",
      "250/250 [==============================] - 16s 65ms/step - loss: 0.2753 - accuracy: 0.8835 - val_loss: 0.4981 - val_accuracy: 0.7960\n",
      "Epoch 22/25\n",
      "250/250 [==============================] - 16s 65ms/step - loss: 0.2717 - accuracy: 0.8869 - val_loss: 0.5119 - val_accuracy: 0.7980\n",
      "Epoch 23/25\n",
      "250/250 [==============================] - 16s 65ms/step - loss: 0.2546 - accuracy: 0.8945 - val_loss: 0.5191 - val_accuracy: 0.7990\n",
      "Epoch 24/25\n",
      "250/250 [==============================] - 16s 65ms/step - loss: 0.2334 - accuracy: 0.8997 - val_loss: 0.5082 - val_accuracy: 0.8085\n",
      "Epoch 25/25\n",
      "250/250 [==============================] - 16s 65ms/step - loss: 0.2314 - accuracy: 0.9029 - val_loss: 0.5442 - val_accuracy: 0.7965\n"
     ]
    },
    {
     "data": {
      "text/plain": [
       "<keras.callbacks.History at 0x175497f70>"
      ]
     },
     "execution_count": 26,
     "metadata": {},
     "output_type": "execute_result"
    }
   ],
   "source": [
    "cnn.fit(x = training_set, validation_data = test_set, epochs = 25)"
   ]
  },
  {
   "cell_type": "markdown",
   "metadata": {
    "id": "U3PZasO0006Z"
   },
   "source": [
    "## Part 4 - Making a single prediction"
   ]
  },
  {
   "cell_type": "code",
   "execution_count": 35,
   "metadata": {
    "id": "hEIoCR4qvgbo"
   },
   "outputs": [
    {
     "name": "stdout",
     "output_type": "stream",
     "text": [
      "1/1 [==============================] - 1s 641ms/step\n",
      "dog\n"
     ]
    }
   ],
   "source": [
    "import numpy as np\n",
    "from tensorflow.keras.preprocessing.image import load_img, img_to_array\n",
    "\n",
    "\n",
    "test_image = load_img('dataset/single_prediction/cat_or_dog_1.jpg', target_size=(64, 64))\n",
    "# we convert pli format to numpy array format\n",
    "test_image = img_to_array(test_image)\n",
    "# we add extra dimension corresponding to a batch, dimension of the batch is always first dim\n",
    "test_image = np.expand_dims(test_image, axis = 0)\n",
    "# we have to rescale this\n",
    "result = cnn.predict(test_image/255.0)\n",
    "training_set.class_indices\n",
    "# first index is batch and then inside a batch we have first and only prediction with index 0\n",
    "if result[0][0] > 0.5:\n",
    "    prediction = 'dog'\n",
    "else:\n",
    "    prediction = 'cat'\n",
    "\n",
    "print(prediction)"
   ]
  }
 ],
 "metadata": {
  "colab": {
   "provenance": []
  },
  "kernelspec": {
   "display_name": "Python 3 (ipykernel)",
   "language": "python",
   "name": "python3"
  },
  "language_info": {
   "codemirror_mode": {
    "name": "ipython",
    "version": 3
   },
   "file_extension": ".py",
   "mimetype": "text/x-python",
   "name": "python",
   "nbconvert_exporter": "python",
   "pygments_lexer": "ipython3",
   "version": "3.10.10"
  }
 },
 "nbformat": 4,
 "nbformat_minor": 1
}
